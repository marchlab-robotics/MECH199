{
 "cells": [
  {
   "cell_type": "code",
   "execution_count": null,
   "id": "4dd43edf",
   "metadata": {},
   "outputs": [],
   "source": [
    "# Serial 통신 with python\n",
    "import serial\n",
    "\n",
    "ser = serial.Serial(port = 'COM12',baudrate = 115200)\n",
    "\n",
    "while True:\n",
    "    if ser.readable(): #뭔가 읽을 수 있는 상태이면\n",
    "        res = ser.readline() # ser 에서 읽어온 데이터 값 저장\n",
    "        test = res.decode()[:len(res)-1]\n",
    "        print(test) # res의 길이 만큼 decode 해서 프린트 함."
   ]
  },
  {
   "cell_type": "code",
   "execution_count": 4,
   "id": "909eea77",
   "metadata": {},
   "outputs": [],
   "source": [
    "ser.close()"
   ]
  }
 ],
 "metadata": {
  "kernelspec": {
   "display_name": "Python 3",
   "language": "python",
   "name": "python3"
  },
  "language_info": {
   "codemirror_mode": {
    "name": "ipython",
    "version": 3
   },
   "file_extension": ".py",
   "mimetype": "text/x-python",
   "name": "python",
   "nbconvert_exporter": "python",
   "pygments_lexer": "ipython3",
   "version": "3.9.18"
  }
 },
 "nbformat": 4,
 "nbformat_minor": 5
}
