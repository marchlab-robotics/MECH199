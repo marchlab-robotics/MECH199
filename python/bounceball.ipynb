{
 "cells": [
  {
   "cell_type": "markdown",
   "id": "afd158f2",
   "metadata": {},
   "source": [
    "# 예제 1: 등속도/등가속도 운동"
   ]
  },
  {
   "cell_type": "code",
   "execution_count": 18,
   "id": "3ac53f5d",
   "metadata": {},
   "outputs": [],
   "source": [
    "import numpy as np\n",
    "import cv2\n",
    "\n",
    "# 창 띄울 이미지 크기 및 색갈\n",
    "img_height = 800 \n",
    "img_width= 1000\n",
    "img = np.zeros((img_height, img_width, 3), np.uint8)\n",
    "img.fill(255) # 배경을 흰색으로 설정\n",
    "\n",
    "# RGB 색상 지정\n",
    "blue_color = (255, 0, 0) # B, G, R 순서\n",
    "green_color = (0, 255, 0) # B, G, R 순서\n",
    "red_color = (255, 0, 255) # B, G, R 순서\n",
    "black_color = (0, 0, 0) # B, G, R 순서\n",
    "white_color = (255, 255, 255) # B, G, R 순서\n",
    "brown_color = (0, 25, 51) # B, G, R 순서\n",
    "\n",
    "# 물체(사각형) 크기 설정\n",
    "rectangle_height = 40\n",
    "rectangle_width = 40\n",
    "\n",
    "# 초기 시작 위치 및 속도 설정\n",
    "x_pos = 0\n",
    "y_pos = img_height/2\n",
    "x_vel = 1 # pixel per timestep\n",
    "x_acc = 1 # acceleration\n",
    "\n",
    "# timestep 설정\n",
    "time_step = 0.1\n",
    "\n",
    "while True:\n",
    "    x_pos = x_pos + x_vel*time_step # 운동방정식 (등속도 운동)\n",
    "    x_vel = x_vel + x_acc*time_step # 운동방정식 (등가속도 운동)\n",
    "\n",
    "    img_temp = img.copy()\n",
    "\n",
    "    # 물체(사각형) 그리기\n",
    "    cv2.rectangle(img_temp, \n",
    "                  (int(x_pos - rectangle_width/2), int(y_pos - rectangle_height/2)),\n",
    "                  (int(x_pos + rectangle_width/2), int(y_pos + rectangle_height/2)),\n",
    "                  black_color, -1)\n",
    "    \n",
    "    # 화면 업데이트\n",
    "    cv2.imshow(\"image_temp\", img_temp)\n",
    "\n",
    "    # 키보드 'q' 누르면 종료\n",
    "    if cv2.waitKey(1) == ord('q'): \n",
    "        break\n",
    "\n",
    "cv2.waitKey(0)\n",
    "cv2.destroyAllWindows()"
   ]
  },
  {
   "cell_type": "markdown",
   "id": "0b0949a6",
   "metadata": {},
   "source": [
    "# 예제 2: 공 튀기는 가상환경"
   ]
  },
  {
   "cell_type": "code",
   "execution_count": 31,
   "id": "0f452778",
   "metadata": {},
   "outputs": [
    {
     "name": "stdout",
     "output_type": "stream",
     "text": [
      "0.0\n"
     ]
    }
   ],
   "source": [
    "# 공 튀기는 가상환경 예시\n",
    "import numpy as np\n",
    "import cv2\n",
    "\n",
    "global blue_color\n",
    "global green_color\n",
    "global red_color\n",
    "global white_color\n",
    "global brown_color\n",
    "\n",
    "blue_color = (255, 0, 0)\n",
    "green_color = (0, 255, 0)\n",
    "red_color = (0, 0, 255)\n",
    "white_color = (255, 255, 255)\n",
    "brown_color = (0, 25, 51)\n",
    "\n",
    "ground_width = 1000\n",
    "ground_height = 50\n",
    "\n",
    "img_width = 1000  ## 이미지 가로 크기 설정\n",
    "img_height = 800  ## 이미지 세로 크기 설정\n",
    "img = np.zeros((img_height, img_width, 3), np.uint8) ## 이미지 배열 만들기\n",
    "img.fill(255) ## 이미지를 하얀색으로 칠하기\n",
    "\n",
    "# 물체(원) 크기 설정\n",
    "ball_radius = 30\n",
    "    \n",
    "################################################################################\n",
    "\n",
    "\n",
    "# 초기 위치 및 속도 설정\n",
    "g = 9.8\n",
    "mass = 10\n",
    "\n",
    "ground_stiffness = 100 # 공이 지면을 얼마나 뚫고 들어갈 수 있는지\n",
    "ground_damping = 0 # 지면의 dampling. 큰 값이면 땅의 반발력 약해져서 덜 튀김\n",
    "\n",
    "x_pos = img_width/2\n",
    "y_pos = 500\n",
    "y_vel = 0\n",
    "y_acc = 0\n",
    "\n",
    "# timestep 설정\n",
    "time_step = 0.1\n",
    "\n",
    "critical_damping = 2*np.sqrt(ground_stiffness*mass)\n",
    "zeta = ground_damping/critical_damping\n",
    "print(zeta)\n",
    "\n",
    "while True:\n",
    "    if y_pos >= img_height-ground_height-ball_radius: # 땅에 공이 닿았을 때 반발력 계산\n",
    "        xp_pos = y_pos - (img_height-ground_height-ball_radius)\n",
    "        xp_vel = y_vel\n",
    "        f_y = -(ground_stiffness*xp_pos+ground_damping*xp_vel)\n",
    "    else:\n",
    "        f_y = 0\n",
    "    \n",
    "    ##### w 키 누르면 점프 (y방향 속도 50)\n",
    "    if cv2.waitKey(1) == ord('w'):\n",
    "        y_vel = -50\n",
    "    \n",
    "    y_acc = (f_y/mass)+g\n",
    "    y_pos = y_pos + y_vel*time_step\n",
    "    y_vel = y_vel + y_acc*time_step\n",
    "    \n",
    "    \n",
    "    ##### 캔버스 만들기\n",
    "    img_temp = img.copy()\n",
    "\n",
    "    ##### 동그라미\n",
    "    cv2.circle(img_temp, (int(x_pos), int(y_pos)), ball_radius, blue_color, -1) \n",
    "\n",
    "    ##### 사각형\n",
    "    cv2.rectangle(img_temp, (0, int(img_height-ground_height)), (int(img_width), int(img_height)), brown_color, -1)\n",
    "\n",
    "    ##### 이미지 보여주기\n",
    "    cv2.imshow(\"image_temp\", img_temp)\n",
    "    \n",
    "    ##### q키를 누르면 나가게 하기\n",
    "    if cv2.waitKey(1) == ord('q'):\n",
    "        break\n",
    "\n",
    "# 키 아무거나 누를 때 까지 무한 대기(0)\n",
    "cv2.waitKey(0)\n",
    "# 키가 눌리면 창 닫기\n",
    "cv2.destroyAllWindows()"
   ]
  }
 ],
 "metadata": {
  "kernelspec": {
   "display_name": "Python 3",
   "language": "python",
   "name": "python3"
  },
  "language_info": {
   "codemirror_mode": {
    "name": "ipython",
    "version": 3
   },
   "file_extension": ".py",
   "mimetype": "text/x-python",
   "name": "python",
   "nbconvert_exporter": "python",
   "pygments_lexer": "ipython3",
   "version": "3.9.19"
  },
  "varInspector": {
   "cols": {
    "lenName": 16,
    "lenType": 16,
    "lenVar": 40
   },
   "kernels_config": {
    "python": {
     "delete_cmd_postfix": "",
     "delete_cmd_prefix": "del ",
     "library": "var_list.py",
     "varRefreshCmd": "print(var_dic_list())"
    },
    "r": {
     "delete_cmd_postfix": ") ",
     "delete_cmd_prefix": "rm(",
     "library": "var_list.r",
     "varRefreshCmd": "cat(var_dic_list()) "
    }
   },
   "types_to_exclude": [
    "module",
    "function",
    "builtin_function_or_method",
    "instance",
    "_Feature"
   ],
   "window_display": false
  }
 },
 "nbformat": 4,
 "nbformat_minor": 5
}
